{
 "cells": [
  {
   "cell_type": "markdown",
   "id": "af400d7c",
   "metadata": {},
   "source": [
    "# Uso de API de Covid19 con Pandas\n"
   ]
  },
  {
   "cell_type": "markdown",
   "id": "8a90d157-5524-4b22-a314-5b48e79002b8",
   "metadata": {},
   "source": [
    "La actividad dirigida 3 tiene como objetivo mostrar datos en tiempo real sobre la evolución de la pandemia Covid-19"
   ]
  },
  {
   "cell_type": "markdown",
   "id": "4172b97c",
   "metadata": {},
   "source": [
    "## Instalación Pandas"
   ]
  },
  {
   "cell_type": "markdown",
   "id": "894b6c49-49bc-46ae-b334-0d1869c17f31",
   "metadata": {},
   "source": [
    "El primer paso consiste en la instalación de Pandas. Es una librería especializada en el manejo y análisis de estructura de datos. Una herramienta en código abierto que utilizaremos para alcanzar el objetivo de esta práctica."
   ]
  },
  {
   "cell_type": "code",
   "execution_count": 1,
   "id": "93e46f74",
   "metadata": {},
   "outputs": [
    {
     "name": "stdout",
     "output_type": "stream",
     "text": [
      "Requirement already satisfied: pandas in c:\\users\\noelia bugarin\\anaconda3\\lib\\site-packages (1.3.4)\n",
      "Requirement already satisfied: numpy>=1.17.3 in c:\\users\\noelia bugarin\\anaconda3\\lib\\site-packages (from pandas) (1.20.3)\n",
      "Requirement already satisfied: python-dateutil>=2.7.3 in c:\\users\\noelia bugarin\\anaconda3\\lib\\site-packages (from pandas) (2.8.2)\n",
      "Requirement already satisfied: pytz>=2017.3 in c:\\users\\noelia bugarin\\anaconda3\\lib\\site-packages (from pandas) (2021.3)\n",
      "Requirement already satisfied: six>=1.5 in c:\\users\\noelia bugarin\\anaconda3\\lib\\site-packages (from python-dateutil>=2.7.3->pandas) (1.16.0)\n"
     ]
    }
   ],
   "source": [
    "!pip install pandas"
   ]
  },
  {
   "cell_type": "markdown",
   "id": "d0661b27",
   "metadata": {},
   "source": [
    "## Configuración"
   ]
  },
  {
   "cell_type": "markdown",
   "id": "0ba6aafe-0d54-4d25-a263-602fbfc9e112",
   "metadata": {},
   "source": [
    "El siguiente paso, para facilitar el trabajo a lo largo de la práctica, es atribuir el valor \"pd\" a panda a través de \"import pandas as pd\"\n"
   ]
  },
  {
   "cell_type": "code",
   "execution_count": 2,
   "id": "f0268090",
   "metadata": {},
   "outputs": [],
   "source": [
    "import pandas as pd\n"
   ]
  },
  {
   "cell_type": "markdown",
   "id": "0ce2a76f",
   "metadata": {},
   "source": [
    "## Variables "
   ]
  },
  {
   "cell_type": "markdown",
   "id": "5eac914f-eeb8-41f4-9c2c-e1ede602d14b",
   "metadata": {},
   "source": [
    "En este paso definiremos la variable url al valor 'https://api.covid19api.com/countries'  con la que obtendremos los datos de la pandemia."
   ]
  },
  {
   "cell_type": "code",
   "execution_count": 3,
   "id": "79b4f18a",
   "metadata": {},
   "outputs": [],
   "source": [
    "url = 'https://api.covid19api.com/countries'"
   ]
  },
  {
   "cell_type": "code",
   "execution_count": 4,
   "id": "e082f1f3",
   "metadata": {},
   "outputs": [
    {
     "data": {
      "text/plain": [
       "'https://api.covid19api.com/countries'"
      ]
     },
     "execution_count": 4,
     "metadata": {},
     "output_type": "execute_result"
    }
   ],
   "source": [
    "url"
   ]
  },
  {
   "cell_type": "markdown",
   "id": "58403cbd",
   "metadata": {},
   "source": [
    "## Creación de Dataframe\n",
    "\n",
    "Utilizamos la función `read_json` de Pandas para leer los datos de JSON de la página atribuida a la variable url"
   ]
  },
  {
   "cell_type": "markdown",
   "id": "122fa952-5162-4070-9a4a-c558b746e6fe",
   "metadata": {},
   "source": [
    "La estructura de datos es DataFrame, crearemos una variable de esa estructura de datos que la llamaremos df utilizada para guardar datos de distintos tipos en columnas."
   ]
  },
  {
   "cell_type": "code",
   "execution_count": 6,
   "id": "f54b8ceb",
   "metadata": {},
   "outputs": [],
   "source": [
    "df = pd.read_json(url)"
   ]
  },
  {
   "cell_type": "code",
   "execution_count": 7,
   "id": "92ac59ee",
   "metadata": {},
   "outputs": [
    {
     "data": {
      "text/html": [
       "<div>\n",
       "<style scoped>\n",
       "    .dataframe tbody tr th:only-of-type {\n",
       "        vertical-align: middle;\n",
       "    }\n",
       "\n",
       "    .dataframe tbody tr th {\n",
       "        vertical-align: top;\n",
       "    }\n",
       "\n",
       "    .dataframe thead th {\n",
       "        text-align: right;\n",
       "    }\n",
       "</style>\n",
       "<table border=\"1\" class=\"dataframe\">\n",
       "  <thead>\n",
       "    <tr style=\"text-align: right;\">\n",
       "      <th></th>\n",
       "      <th>Country</th>\n",
       "      <th>Slug</th>\n",
       "      <th>ISO2</th>\n",
       "    </tr>\n",
       "  </thead>\n",
       "  <tbody>\n",
       "    <tr>\n",
       "      <th>0</th>\n",
       "      <td>Anguilla</td>\n",
       "      <td>anguilla</td>\n",
       "      <td>AI</td>\n",
       "    </tr>\n",
       "    <tr>\n",
       "      <th>1</th>\n",
       "      <td>Cyprus</td>\n",
       "      <td>cyprus</td>\n",
       "      <td>CY</td>\n",
       "    </tr>\n",
       "    <tr>\n",
       "      <th>2</th>\n",
       "      <td>Honduras</td>\n",
       "      <td>honduras</td>\n",
       "      <td>HN</td>\n",
       "    </tr>\n",
       "    <tr>\n",
       "      <th>3</th>\n",
       "      <td>Iceland</td>\n",
       "      <td>iceland</td>\n",
       "      <td>IS</td>\n",
       "    </tr>\n",
       "    <tr>\n",
       "      <th>4</th>\n",
       "      <td>Nepal</td>\n",
       "      <td>nepal</td>\n",
       "      <td>NP</td>\n",
       "    </tr>\n",
       "    <tr>\n",
       "      <th>...</th>\n",
       "      <td>...</td>\n",
       "      <td>...</td>\n",
       "      <td>...</td>\n",
       "    </tr>\n",
       "    <tr>\n",
       "      <th>243</th>\n",
       "      <td>Armenia</td>\n",
       "      <td>armenia</td>\n",
       "      <td>AM</td>\n",
       "    </tr>\n",
       "    <tr>\n",
       "      <th>244</th>\n",
       "      <td>Congo (Kinshasa)</td>\n",
       "      <td>congo-kinshasa</td>\n",
       "      <td>CD</td>\n",
       "    </tr>\n",
       "    <tr>\n",
       "      <th>245</th>\n",
       "      <td>Korea (North)</td>\n",
       "      <td>korea-north</td>\n",
       "      <td>KP</td>\n",
       "    </tr>\n",
       "    <tr>\n",
       "      <th>246</th>\n",
       "      <td>Niger</td>\n",
       "      <td>niger</td>\n",
       "      <td>NE</td>\n",
       "    </tr>\n",
       "    <tr>\n",
       "      <th>247</th>\n",
       "      <td>Virgin Islands, US</td>\n",
       "      <td>virgin-islands</td>\n",
       "      <td>VI</td>\n",
       "    </tr>\n",
       "  </tbody>\n",
       "</table>\n",
       "<p>248 rows × 3 columns</p>\n",
       "</div>"
      ],
      "text/plain": [
       "                Country            Slug ISO2\n",
       "0              Anguilla        anguilla   AI\n",
       "1                Cyprus          cyprus   CY\n",
       "2              Honduras        honduras   HN\n",
       "3               Iceland         iceland   IS\n",
       "4                 Nepal           nepal   NP\n",
       "..                  ...             ...  ...\n",
       "243             Armenia         armenia   AM\n",
       "244    Congo (Kinshasa)  congo-kinshasa   CD\n",
       "245       Korea (North)     korea-north   KP\n",
       "246               Niger           niger   NE\n",
       "247  Virgin Islands, US  virgin-islands   VI\n",
       "\n",
       "[248 rows x 3 columns]"
      ]
     },
     "execution_count": 7,
     "metadata": {},
     "output_type": "execute_result"
    }
   ],
   "source": [
    "df"
   ]
  },
  {
   "cell_type": "markdown",
   "id": "1b198d04",
   "metadata": {},
   "source": [
    "## Explorar tabla\n",
    "Para explorar la tabla podemos usar varias funciones, como pueden ser:\n",
    "- Cabecera - muestra los primeros datos de la tabla\n",
    "- Cola - muestra los últimos datos de la tabla\n",
    "- Descripción - muestra la informacion de la configuración de la tabla"
   ]
  },
  {
   "cell_type": "code",
   "execution_count": 8,
   "id": "6769a6a5",
   "metadata": {},
   "outputs": [
    {
     "data": {
      "text/html": [
       "<div>\n",
       "<style scoped>\n",
       "    .dataframe tbody tr th:only-of-type {\n",
       "        vertical-align: middle;\n",
       "    }\n",
       "\n",
       "    .dataframe tbody tr th {\n",
       "        vertical-align: top;\n",
       "    }\n",
       "\n",
       "    .dataframe thead th {\n",
       "        text-align: right;\n",
       "    }\n",
       "</style>\n",
       "<table border=\"1\" class=\"dataframe\">\n",
       "  <thead>\n",
       "    <tr style=\"text-align: right;\">\n",
       "      <th></th>\n",
       "      <th>Country</th>\n",
       "      <th>Slug</th>\n",
       "      <th>ISO2</th>\n",
       "    </tr>\n",
       "  </thead>\n",
       "  <tbody>\n",
       "    <tr>\n",
       "      <th>0</th>\n",
       "      <td>Anguilla</td>\n",
       "      <td>anguilla</td>\n",
       "      <td>AI</td>\n",
       "    </tr>\n",
       "    <tr>\n",
       "      <th>1</th>\n",
       "      <td>Cyprus</td>\n",
       "      <td>cyprus</td>\n",
       "      <td>CY</td>\n",
       "    </tr>\n",
       "    <tr>\n",
       "      <th>2</th>\n",
       "      <td>Honduras</td>\n",
       "      <td>honduras</td>\n",
       "      <td>HN</td>\n",
       "    </tr>\n",
       "    <tr>\n",
       "      <th>3</th>\n",
       "      <td>Iceland</td>\n",
       "      <td>iceland</td>\n",
       "      <td>IS</td>\n",
       "    </tr>\n",
       "    <tr>\n",
       "      <th>4</th>\n",
       "      <td>Nepal</td>\n",
       "      <td>nepal</td>\n",
       "      <td>NP</td>\n",
       "    </tr>\n",
       "  </tbody>\n",
       "</table>\n",
       "</div>"
      ],
      "text/plain": [
       "    Country      Slug ISO2\n",
       "0  Anguilla  anguilla   AI\n",
       "1    Cyprus    cyprus   CY\n",
       "2  Honduras  honduras   HN\n",
       "3   Iceland   iceland   IS\n",
       "4     Nepal     nepal   NP"
      ]
     },
     "execution_count": 8,
     "metadata": {},
     "output_type": "execute_result"
    }
   ],
   "source": [
    "df.head()"
   ]
  },
  {
   "cell_type": "code",
   "execution_count": 9,
   "id": "e724afbc",
   "metadata": {},
   "outputs": [
    {
     "data": {
      "text/html": [
       "<div>\n",
       "<style scoped>\n",
       "    .dataframe tbody tr th:only-of-type {\n",
       "        vertical-align: middle;\n",
       "    }\n",
       "\n",
       "    .dataframe tbody tr th {\n",
       "        vertical-align: top;\n",
       "    }\n",
       "\n",
       "    .dataframe thead th {\n",
       "        text-align: right;\n",
       "    }\n",
       "</style>\n",
       "<table border=\"1\" class=\"dataframe\">\n",
       "  <thead>\n",
       "    <tr style=\"text-align: right;\">\n",
       "      <th></th>\n",
       "      <th>Country</th>\n",
       "      <th>Slug</th>\n",
       "      <th>ISO2</th>\n",
       "    </tr>\n",
       "  </thead>\n",
       "  <tbody>\n",
       "    <tr>\n",
       "      <th>243</th>\n",
       "      <td>Armenia</td>\n",
       "      <td>armenia</td>\n",
       "      <td>AM</td>\n",
       "    </tr>\n",
       "    <tr>\n",
       "      <th>244</th>\n",
       "      <td>Congo (Kinshasa)</td>\n",
       "      <td>congo-kinshasa</td>\n",
       "      <td>CD</td>\n",
       "    </tr>\n",
       "    <tr>\n",
       "      <th>245</th>\n",
       "      <td>Korea (North)</td>\n",
       "      <td>korea-north</td>\n",
       "      <td>KP</td>\n",
       "    </tr>\n",
       "    <tr>\n",
       "      <th>246</th>\n",
       "      <td>Niger</td>\n",
       "      <td>niger</td>\n",
       "      <td>NE</td>\n",
       "    </tr>\n",
       "    <tr>\n",
       "      <th>247</th>\n",
       "      <td>Virgin Islands, US</td>\n",
       "      <td>virgin-islands</td>\n",
       "      <td>VI</td>\n",
       "    </tr>\n",
       "  </tbody>\n",
       "</table>\n",
       "</div>"
      ],
      "text/plain": [
       "                Country            Slug ISO2\n",
       "243             Armenia         armenia   AM\n",
       "244    Congo (Kinshasa)  congo-kinshasa   CD\n",
       "245       Korea (North)     korea-north   KP\n",
       "246               Niger           niger   NE\n",
       "247  Virgin Islands, US  virgin-islands   VI"
      ]
     },
     "execution_count": 9,
     "metadata": {},
     "output_type": "execute_result"
    }
   ],
   "source": [
    "df.tail()"
   ]
  },
  {
   "cell_type": "code",
   "execution_count": 10,
   "id": "2fb55ed2",
   "metadata": {},
   "outputs": [
    {
     "name": "stdout",
     "output_type": "stream",
     "text": [
      "<class 'pandas.core.frame.DataFrame'>\n",
      "RangeIndex: 248 entries, 0 to 247\n",
      "Data columns (total 3 columns):\n",
      " #   Column   Non-Null Count  Dtype \n",
      "---  ------   --------------  ----- \n",
      " 0   Country  248 non-null    object\n",
      " 1   Slug     248 non-null    object\n",
      " 2   ISO2     248 non-null    object\n",
      "dtypes: object(3)\n",
      "memory usage: 5.9+ KB\n"
     ]
    }
   ],
   "source": [
    "df.info()"
   ]
  },
  {
   "cell_type": "markdown",
   "id": "c7a6c3bf",
   "metadata": {},
   "source": [
    "# Acceso a datos\n",
    "Para acceder a los datos, tenemos que seguir la siguiente estructura: `df[id1][id2]`. Si solo añadimos un dato en id1 como lo podemos ver en el siguiente ejemplo `df['Country']` nos muestra por la salida una losta de los 248 paises, sin el resto de los datos ya que solo le pedimos que nos muestre los Country."
   ]
  },
  {
   "cell_type": "code",
   "execution_count": 11,
   "id": "e50e22e2",
   "metadata": {},
   "outputs": [
    {
     "data": {
      "text/plain": [
       "0                Anguilla\n",
       "1                  Cyprus\n",
       "2                Honduras\n",
       "3                 Iceland\n",
       "4                   Nepal\n",
       "              ...        \n",
       "243               Armenia\n",
       "244      Congo (Kinshasa)\n",
       "245         Korea (North)\n",
       "246                 Niger\n",
       "247    Virgin Islands, US\n",
       "Name: Country, Length: 248, dtype: object"
      ]
     },
     "execution_count": 11,
     "metadata": {},
     "output_type": "execute_result"
    }
   ],
   "source": [
    "df['Country']"
   ]
  },
  {
   "cell_type": "markdown",
   "id": "0bf56e90",
   "metadata": {},
   "source": [
    "En el siguiente ejemplo, queremos obtener el valor 200 de los paises, pues para eso tenemos que darle valor al id2 explicado anteriormte"
   ]
  },
  {
   "cell_type": "code",
   "execution_count": 12,
   "id": "6e09f189",
   "metadata": {},
   "outputs": [
    {
     "data": {
      "text/plain": [
       "'Timor-Leste'"
      ]
     },
     "execution_count": 12,
     "metadata": {},
     "output_type": "execute_result"
    }
   ],
   "source": [
    "df['Country'][200]"
   ]
  },
  {
   "cell_type": "markdown",
   "id": "8876866b",
   "metadata": {},
   "source": [
    "## Tiempo real España\n",
    "En este paso definiremos la variable url al valor 'https://api.covid19api.com/country/spain/status/confirmed/live'  con la que obtendremos los datos en España de la pandemia.\n",
    "Leeremos los datos en un formato JSON y los guardamos en la variable df_es"
   ]
  },
  {
   "cell_type": "code",
   "execution_count": 13,
   "id": "8a681333",
   "metadata": {},
   "outputs": [
    {
     "data": {
      "text/html": [
       "<div>\n",
       "<style scoped>\n",
       "    .dataframe tbody tr th:only-of-type {\n",
       "        vertical-align: middle;\n",
       "    }\n",
       "\n",
       "    .dataframe tbody tr th {\n",
       "        vertical-align: top;\n",
       "    }\n",
       "\n",
       "    .dataframe thead th {\n",
       "        text-align: right;\n",
       "    }\n",
       "</style>\n",
       "<table border=\"1\" class=\"dataframe\">\n",
       "  <thead>\n",
       "    <tr style=\"text-align: right;\">\n",
       "      <th></th>\n",
       "      <th>Country</th>\n",
       "      <th>CountryCode</th>\n",
       "      <th>Province</th>\n",
       "      <th>City</th>\n",
       "      <th>CityCode</th>\n",
       "      <th>Lat</th>\n",
       "      <th>Lon</th>\n",
       "      <th>Cases</th>\n",
       "      <th>Status</th>\n",
       "      <th>Date</th>\n",
       "    </tr>\n",
       "  </thead>\n",
       "  <tbody>\n",
       "    <tr>\n",
       "      <th>0</th>\n",
       "      <td>Spain</td>\n",
       "      <td>ES</td>\n",
       "      <td></td>\n",
       "      <td></td>\n",
       "      <td></td>\n",
       "      <td>40.46</td>\n",
       "      <td>-3.75</td>\n",
       "      <td>0</td>\n",
       "      <td>confirmed</td>\n",
       "      <td>2020-01-22 00:00:00+00:00</td>\n",
       "    </tr>\n",
       "    <tr>\n",
       "      <th>1</th>\n",
       "      <td>Spain</td>\n",
       "      <td>ES</td>\n",
       "      <td></td>\n",
       "      <td></td>\n",
       "      <td></td>\n",
       "      <td>40.46</td>\n",
       "      <td>-3.75</td>\n",
       "      <td>0</td>\n",
       "      <td>confirmed</td>\n",
       "      <td>2020-01-23 00:00:00+00:00</td>\n",
       "    </tr>\n",
       "    <tr>\n",
       "      <th>2</th>\n",
       "      <td>Spain</td>\n",
       "      <td>ES</td>\n",
       "      <td></td>\n",
       "      <td></td>\n",
       "      <td></td>\n",
       "      <td>40.46</td>\n",
       "      <td>-3.75</td>\n",
       "      <td>0</td>\n",
       "      <td>confirmed</td>\n",
       "      <td>2020-01-24 00:00:00+00:00</td>\n",
       "    </tr>\n",
       "    <tr>\n",
       "      <th>3</th>\n",
       "      <td>Spain</td>\n",
       "      <td>ES</td>\n",
       "      <td></td>\n",
       "      <td></td>\n",
       "      <td></td>\n",
       "      <td>40.46</td>\n",
       "      <td>-3.75</td>\n",
       "      <td>0</td>\n",
       "      <td>confirmed</td>\n",
       "      <td>2020-01-25 00:00:00+00:00</td>\n",
       "    </tr>\n",
       "    <tr>\n",
       "      <th>4</th>\n",
       "      <td>Spain</td>\n",
       "      <td>ES</td>\n",
       "      <td></td>\n",
       "      <td></td>\n",
       "      <td></td>\n",
       "      <td>40.46</td>\n",
       "      <td>-3.75</td>\n",
       "      <td>0</td>\n",
       "      <td>confirmed</td>\n",
       "      <td>2020-01-26 00:00:00+00:00</td>\n",
       "    </tr>\n",
       "    <tr>\n",
       "      <th>...</th>\n",
       "      <td>...</td>\n",
       "      <td>...</td>\n",
       "      <td>...</td>\n",
       "      <td>...</td>\n",
       "      <td>...</td>\n",
       "      <td>...</td>\n",
       "      <td>...</td>\n",
       "      <td>...</td>\n",
       "      <td>...</td>\n",
       "      <td>...</td>\n",
       "    </tr>\n",
       "    <tr>\n",
       "      <th>805</th>\n",
       "      <td>Spain</td>\n",
       "      <td>ES</td>\n",
       "      <td></td>\n",
       "      <td></td>\n",
       "      <td></td>\n",
       "      <td>40.46</td>\n",
       "      <td>-3.75</td>\n",
       "      <td>11578653</td>\n",
       "      <td>confirmed</td>\n",
       "      <td>2022-04-06 00:00:00+00:00</td>\n",
       "    </tr>\n",
       "    <tr>\n",
       "      <th>806</th>\n",
       "      <td>Spain</td>\n",
       "      <td>ES</td>\n",
       "      <td></td>\n",
       "      <td></td>\n",
       "      <td></td>\n",
       "      <td>40.46</td>\n",
       "      <td>-3.75</td>\n",
       "      <td>11578653</td>\n",
       "      <td>confirmed</td>\n",
       "      <td>2022-04-07 00:00:00+00:00</td>\n",
       "    </tr>\n",
       "    <tr>\n",
       "      <th>807</th>\n",
       "      <td>Spain</td>\n",
       "      <td>ES</td>\n",
       "      <td></td>\n",
       "      <td></td>\n",
       "      <td></td>\n",
       "      <td>40.46</td>\n",
       "      <td>-3.75</td>\n",
       "      <td>11627487</td>\n",
       "      <td>confirmed</td>\n",
       "      <td>2022-04-08 00:00:00+00:00</td>\n",
       "    </tr>\n",
       "    <tr>\n",
       "      <th>808</th>\n",
       "      <td>Spain</td>\n",
       "      <td>ES</td>\n",
       "      <td></td>\n",
       "      <td></td>\n",
       "      <td></td>\n",
       "      <td>40.46</td>\n",
       "      <td>-3.75</td>\n",
       "      <td>11627487</td>\n",
       "      <td>confirmed</td>\n",
       "      <td>2022-04-09 00:00:00+00:00</td>\n",
       "    </tr>\n",
       "    <tr>\n",
       "      <th>809</th>\n",
       "      <td>Spain</td>\n",
       "      <td>ES</td>\n",
       "      <td></td>\n",
       "      <td></td>\n",
       "      <td></td>\n",
       "      <td>40.46</td>\n",
       "      <td>-3.75</td>\n",
       "      <td>11627487</td>\n",
       "      <td>confirmed</td>\n",
       "      <td>2022-04-10 00:00:00+00:00</td>\n",
       "    </tr>\n",
       "  </tbody>\n",
       "</table>\n",
       "<p>810 rows × 10 columns</p>\n",
       "</div>"
      ],
      "text/plain": [
       "    Country CountryCode Province City CityCode    Lat   Lon     Cases  \\\n",
       "0     Spain          ES                         40.46 -3.75         0   \n",
       "1     Spain          ES                         40.46 -3.75         0   \n",
       "2     Spain          ES                         40.46 -3.75         0   \n",
       "3     Spain          ES                         40.46 -3.75         0   \n",
       "4     Spain          ES                         40.46 -3.75         0   \n",
       "..      ...         ...      ...  ...      ...    ...   ...       ...   \n",
       "805   Spain          ES                         40.46 -3.75  11578653   \n",
       "806   Spain          ES                         40.46 -3.75  11578653   \n",
       "807   Spain          ES                         40.46 -3.75  11627487   \n",
       "808   Spain          ES                         40.46 -3.75  11627487   \n",
       "809   Spain          ES                         40.46 -3.75  11627487   \n",
       "\n",
       "        Status                      Date  \n",
       "0    confirmed 2020-01-22 00:00:00+00:00  \n",
       "1    confirmed 2020-01-23 00:00:00+00:00  \n",
       "2    confirmed 2020-01-24 00:00:00+00:00  \n",
       "3    confirmed 2020-01-25 00:00:00+00:00  \n",
       "4    confirmed 2020-01-26 00:00:00+00:00  \n",
       "..         ...                       ...  \n",
       "805  confirmed 2022-04-06 00:00:00+00:00  \n",
       "806  confirmed 2022-04-07 00:00:00+00:00  \n",
       "807  confirmed 2022-04-08 00:00:00+00:00  \n",
       "808  confirmed 2022-04-09 00:00:00+00:00  \n",
       "809  confirmed 2022-04-10 00:00:00+00:00  \n",
       "\n",
       "[810 rows x 10 columns]"
      ]
     },
     "execution_count": 13,
     "metadata": {},
     "output_type": "execute_result"
    }
   ],
   "source": [
    "url_live = 'https://api.covid19api.com/country/spain/status/confirmed/live'\n",
    "df_es = pd.read_json(url_live)\n",
    "df_es"
   ]
  },
  {
   "cell_type": "markdown",
   "id": "a9c8856f",
   "metadata": {},
   "source": [
    "Para mostras la información de la tabla llamamos a la función info"
   ]
  },
  {
   "cell_type": "code",
   "execution_count": 14,
   "id": "d15d6a39",
   "metadata": {},
   "outputs": [
    {
     "name": "stdout",
     "output_type": "stream",
     "text": [
      "<class 'pandas.core.frame.DataFrame'>\n",
      "RangeIndex: 810 entries, 0 to 809\n",
      "Data columns (total 10 columns):\n",
      " #   Column       Non-Null Count  Dtype              \n",
      "---  ------       --------------  -----              \n",
      " 0   Country      810 non-null    object             \n",
      " 1   CountryCode  810 non-null    object             \n",
      " 2   Province     810 non-null    object             \n",
      " 3   City         810 non-null    object             \n",
      " 4   CityCode     810 non-null    object             \n",
      " 5   Lat          810 non-null    float64            \n",
      " 6   Lon          810 non-null    float64            \n",
      " 7   Cases        810 non-null    int64              \n",
      " 8   Status       810 non-null    object             \n",
      " 9   Date         810 non-null    datetime64[ns, UTC]\n",
      "dtypes: datetime64[ns, UTC](1), float64(2), int64(1), object(6)\n",
      "memory usage: 63.4+ KB\n"
     ]
    }
   ],
   "source": [
    "df_es.info()"
   ]
  },
  {
   "cell_type": "markdown",
   "id": "1a416b2d",
   "metadata": {},
   "source": [
    "Mostramos la tabla estableciendo la matriz por el valor 'Date'"
   ]
  },
  {
   "cell_type": "code",
   "execution_count": 15,
   "id": "3241651d",
   "metadata": {},
   "outputs": [
    {
     "data": {
      "text/html": [
       "<div>\n",
       "<style scoped>\n",
       "    .dataframe tbody tr th:only-of-type {\n",
       "        vertical-align: middle;\n",
       "    }\n",
       "\n",
       "    .dataframe tbody tr th {\n",
       "        vertical-align: top;\n",
       "    }\n",
       "\n",
       "    .dataframe thead th {\n",
       "        text-align: right;\n",
       "    }\n",
       "</style>\n",
       "<table border=\"1\" class=\"dataframe\">\n",
       "  <thead>\n",
       "    <tr style=\"text-align: right;\">\n",
       "      <th></th>\n",
       "      <th>Country</th>\n",
       "      <th>CountryCode</th>\n",
       "      <th>Province</th>\n",
       "      <th>City</th>\n",
       "      <th>CityCode</th>\n",
       "      <th>Lat</th>\n",
       "      <th>Lon</th>\n",
       "      <th>Cases</th>\n",
       "      <th>Status</th>\n",
       "    </tr>\n",
       "    <tr>\n",
       "      <th>Date</th>\n",
       "      <th></th>\n",
       "      <th></th>\n",
       "      <th></th>\n",
       "      <th></th>\n",
       "      <th></th>\n",
       "      <th></th>\n",
       "      <th></th>\n",
       "      <th></th>\n",
       "      <th></th>\n",
       "    </tr>\n",
       "  </thead>\n",
       "  <tbody>\n",
       "    <tr>\n",
       "      <th>2020-01-22 00:00:00+00:00</th>\n",
       "      <td>Spain</td>\n",
       "      <td>ES</td>\n",
       "      <td></td>\n",
       "      <td></td>\n",
       "      <td></td>\n",
       "      <td>40.46</td>\n",
       "      <td>-3.75</td>\n",
       "      <td>0</td>\n",
       "      <td>confirmed</td>\n",
       "    </tr>\n",
       "    <tr>\n",
       "      <th>2020-01-23 00:00:00+00:00</th>\n",
       "      <td>Spain</td>\n",
       "      <td>ES</td>\n",
       "      <td></td>\n",
       "      <td></td>\n",
       "      <td></td>\n",
       "      <td>40.46</td>\n",
       "      <td>-3.75</td>\n",
       "      <td>0</td>\n",
       "      <td>confirmed</td>\n",
       "    </tr>\n",
       "    <tr>\n",
       "      <th>2020-01-24 00:00:00+00:00</th>\n",
       "      <td>Spain</td>\n",
       "      <td>ES</td>\n",
       "      <td></td>\n",
       "      <td></td>\n",
       "      <td></td>\n",
       "      <td>40.46</td>\n",
       "      <td>-3.75</td>\n",
       "      <td>0</td>\n",
       "      <td>confirmed</td>\n",
       "    </tr>\n",
       "    <tr>\n",
       "      <th>2020-01-25 00:00:00+00:00</th>\n",
       "      <td>Spain</td>\n",
       "      <td>ES</td>\n",
       "      <td></td>\n",
       "      <td></td>\n",
       "      <td></td>\n",
       "      <td>40.46</td>\n",
       "      <td>-3.75</td>\n",
       "      <td>0</td>\n",
       "      <td>confirmed</td>\n",
       "    </tr>\n",
       "    <tr>\n",
       "      <th>2020-01-26 00:00:00+00:00</th>\n",
       "      <td>Spain</td>\n",
       "      <td>ES</td>\n",
       "      <td></td>\n",
       "      <td></td>\n",
       "      <td></td>\n",
       "      <td>40.46</td>\n",
       "      <td>-3.75</td>\n",
       "      <td>0</td>\n",
       "      <td>confirmed</td>\n",
       "    </tr>\n",
       "    <tr>\n",
       "      <th>...</th>\n",
       "      <td>...</td>\n",
       "      <td>...</td>\n",
       "      <td>...</td>\n",
       "      <td>...</td>\n",
       "      <td>...</td>\n",
       "      <td>...</td>\n",
       "      <td>...</td>\n",
       "      <td>...</td>\n",
       "      <td>...</td>\n",
       "    </tr>\n",
       "    <tr>\n",
       "      <th>2022-04-06 00:00:00+00:00</th>\n",
       "      <td>Spain</td>\n",
       "      <td>ES</td>\n",
       "      <td></td>\n",
       "      <td></td>\n",
       "      <td></td>\n",
       "      <td>40.46</td>\n",
       "      <td>-3.75</td>\n",
       "      <td>11578653</td>\n",
       "      <td>confirmed</td>\n",
       "    </tr>\n",
       "    <tr>\n",
       "      <th>2022-04-07 00:00:00+00:00</th>\n",
       "      <td>Spain</td>\n",
       "      <td>ES</td>\n",
       "      <td></td>\n",
       "      <td></td>\n",
       "      <td></td>\n",
       "      <td>40.46</td>\n",
       "      <td>-3.75</td>\n",
       "      <td>11578653</td>\n",
       "      <td>confirmed</td>\n",
       "    </tr>\n",
       "    <tr>\n",
       "      <th>2022-04-08 00:00:00+00:00</th>\n",
       "      <td>Spain</td>\n",
       "      <td>ES</td>\n",
       "      <td></td>\n",
       "      <td></td>\n",
       "      <td></td>\n",
       "      <td>40.46</td>\n",
       "      <td>-3.75</td>\n",
       "      <td>11627487</td>\n",
       "      <td>confirmed</td>\n",
       "    </tr>\n",
       "    <tr>\n",
       "      <th>2022-04-09 00:00:00+00:00</th>\n",
       "      <td>Spain</td>\n",
       "      <td>ES</td>\n",
       "      <td></td>\n",
       "      <td></td>\n",
       "      <td></td>\n",
       "      <td>40.46</td>\n",
       "      <td>-3.75</td>\n",
       "      <td>11627487</td>\n",
       "      <td>confirmed</td>\n",
       "    </tr>\n",
       "    <tr>\n",
       "      <th>2022-04-10 00:00:00+00:00</th>\n",
       "      <td>Spain</td>\n",
       "      <td>ES</td>\n",
       "      <td></td>\n",
       "      <td></td>\n",
       "      <td></td>\n",
       "      <td>40.46</td>\n",
       "      <td>-3.75</td>\n",
       "      <td>11627487</td>\n",
       "      <td>confirmed</td>\n",
       "    </tr>\n",
       "  </tbody>\n",
       "</table>\n",
       "<p>810 rows × 9 columns</p>\n",
       "</div>"
      ],
      "text/plain": [
       "                          Country CountryCode Province City CityCode    Lat  \\\n",
       "Date                                                                          \n",
       "2020-01-22 00:00:00+00:00   Spain          ES                         40.46   \n",
       "2020-01-23 00:00:00+00:00   Spain          ES                         40.46   \n",
       "2020-01-24 00:00:00+00:00   Spain          ES                         40.46   \n",
       "2020-01-25 00:00:00+00:00   Spain          ES                         40.46   \n",
       "2020-01-26 00:00:00+00:00   Spain          ES                         40.46   \n",
       "...                           ...         ...      ...  ...      ...    ...   \n",
       "2022-04-06 00:00:00+00:00   Spain          ES                         40.46   \n",
       "2022-04-07 00:00:00+00:00   Spain          ES                         40.46   \n",
       "2022-04-08 00:00:00+00:00   Spain          ES                         40.46   \n",
       "2022-04-09 00:00:00+00:00   Spain          ES                         40.46   \n",
       "2022-04-10 00:00:00+00:00   Spain          ES                         40.46   \n",
       "\n",
       "                            Lon     Cases     Status  \n",
       "Date                                                  \n",
       "2020-01-22 00:00:00+00:00 -3.75         0  confirmed  \n",
       "2020-01-23 00:00:00+00:00 -3.75         0  confirmed  \n",
       "2020-01-24 00:00:00+00:00 -3.75         0  confirmed  \n",
       "2020-01-25 00:00:00+00:00 -3.75         0  confirmed  \n",
       "2020-01-26 00:00:00+00:00 -3.75         0  confirmed  \n",
       "...                         ...       ...        ...  \n",
       "2022-04-06 00:00:00+00:00 -3.75  11578653  confirmed  \n",
       "2022-04-07 00:00:00+00:00 -3.75  11578653  confirmed  \n",
       "2022-04-08 00:00:00+00:00 -3.75  11627487  confirmed  \n",
       "2022-04-09 00:00:00+00:00 -3.75  11627487  confirmed  \n",
       "2022-04-10 00:00:00+00:00 -3.75  11627487  confirmed  \n",
       "\n",
       "[810 rows x 9 columns]"
      ]
     },
     "execution_count": 15,
     "metadata": {},
     "output_type": "execute_result"
    }
   ],
   "source": [
    "df_es.set_index('Date')\n"
   ]
  },
  {
   "cell_type": "markdown",
   "id": "2b15cc05",
   "metadata": {},
   "source": [
    "Mostramos la tabla con la columna solo de casos ya que lo especificamos en el segundo parametro"
   ]
  },
  {
   "cell_type": "code",
   "execution_count": 16,
   "id": "bce2c73b",
   "metadata": {},
   "outputs": [
    {
     "data": {
      "text/plain": [
       "Date\n",
       "2020-01-22 00:00:00+00:00           0\n",
       "2020-01-23 00:00:00+00:00           0\n",
       "2020-01-24 00:00:00+00:00           0\n",
       "2020-01-25 00:00:00+00:00           0\n",
       "2020-01-26 00:00:00+00:00           0\n",
       "                               ...   \n",
       "2022-04-06 00:00:00+00:00    11578653\n",
       "2022-04-07 00:00:00+00:00    11578653\n",
       "2022-04-08 00:00:00+00:00    11627487\n",
       "2022-04-09 00:00:00+00:00    11627487\n",
       "2022-04-10 00:00:00+00:00    11627487\n",
       "Name: Cases, Length: 810, dtype: int64"
      ]
     },
     "execution_count": 16,
     "metadata": {},
     "output_type": "execute_result"
    }
   ],
   "source": [
    "df_es.set_index('Date')['Cases']"
   ]
  },
  {
   "cell_type": "markdown",
   "id": "5f4eda21",
   "metadata": {},
   "source": [
    "Con la función plot mostramos la gráfica de los datos mostrados en la tabla anteriormente y le ponenemos un titulo añadiendolo en los paramentros de esta función"
   ]
  },
  {
   "cell_type": "code",
   "execution_count": 17,
   "id": "9c1c0f1f",
   "metadata": {},
   "outputs": [
    {
     "data": {
      "text/plain": [
       "<AxesSubplot:title={'center':'Casos de Covid19 en España'}, xlabel='Date'>"
      ]
     },
     "execution_count": 17,
     "metadata": {},
     "output_type": "execute_result"
    },
    {
     "data": {
      "image/png": "[encoded data removed]",
      "text/plain": [
       "<Figure size 432x288 with 1 Axes>"
      ]
     },
     "metadata": {
      "needs_background": "light"
     },
     "output_type": "display_data"
    }
   ],
   "source": [
    "df_es.set_index('Date')['Cases'].plot(title=\"Casos de Covid19 en España\")"
   ]
  },
  {
   "cell_type": "code",
   "execution_count": 18,
   "id": "88145ebc",
   "metadata": {},
   "outputs": [
    {
     "data": {
      "text/plain": [
       "<AxesSubplot:title={'center':'Casos de Covid19 en España'}, xlabel='Date'>"
      ]
     },
     "execution_count": 18,
     "metadata": {},
     "output_type": "execute_result"
    },
    {
     "data": {
      "image/png": "[encoded data removed]",
      "text/plain": [
       "<Figure size 432x288 with 1 Axes>"
      ]
     },
     "metadata": {
      "needs_background": "light"
     },
     "output_type": "display_data"
    }
   ],
   "source": [
    "df_es.set_index('Date')['Cases'].plot(title=\"Casos de Covid19 en España\")"
   ]
  },
  {
   "cell_type": "markdown",
   "id": "cf2719eb",
   "metadata": {},
   "source": [
    "## Tiempo real Colombia"
   ]
  },
  {
   "cell_type": "code",
   "execution_count": 19,
   "id": "616eb7d5",
   "metadata": {},
   "outputs": [
    {
     "data": {
      "text/plain": [
       "<AxesSubplot:title={'center':'Datos de Covid19 en Colombia'}, xlabel='Date'>"
      ]
     },
     "execution_count": 19,
     "metadata": {},
     "output_type": "execute_result"
    },
    {
     "data": {
      "image/png": "[encoded data removed]",
      "text/plain": [
       "<Figure size 432x288 with 1 Axes>"
      ]
     },
     "metadata": {
      "needs_background": "light"
     },
     "output_type": "display_data"
    }
   ],
   "source": [
    "url_co = 'https://api.covid19api.com/country/colombia/status/confirmed/live'\n",
    "df_co = pd.read_json(url_co)\n",
    "df_co.set_index('Date')['Cases'].plot(title=\"Datos de Covid19 en Colombia\")"
   ]
  },
  {
   "cell_type": "markdown",
   "id": "0f3fd9cf",
   "metadata": {},
   "source": [
    "## Comparativa España-Colombia\n",
    "Guardamos en la variable casos_es los casos que hay en españa dependiendo de la fecha, estos datos se guardan en un DataFrame. Hacemos lo mismo con los datos de Colombia guardandolo en la variable casos_co"
   ]
  },
  {
   "cell_type": "code",
   "execution_count": 26,
   "id": "e6269097",
   "metadata": {},
   "outputs": [],
   "source": [
    "casos_es = df_es.set_index('Date')['Cases']\n",
    "casos_co = df_co.set_index('Date')['Cases']"
   ]
  },
  {
   "cell_type": "code",
   "execution_count": 27,
   "id": "164394c3",
   "metadata": {},
   "outputs": [
    {
     "data": {
      "text/plain": [
       "Date\n",
       "2020-01-22 00:00:00+00:00           0\n",
       "2020-01-23 00:00:00+00:00           0\n",
       "2020-01-24 00:00:00+00:00           0\n",
       "2020-01-25 00:00:00+00:00           0\n",
       "2020-01-26 00:00:00+00:00           0\n",
       "                               ...   \n",
       "2022-04-06 00:00:00+00:00    11578653\n",
       "2022-04-07 00:00:00+00:00    11578653\n",
       "2022-04-08 00:00:00+00:00    11627487\n",
       "2022-04-09 00:00:00+00:00    11627487\n",
       "2022-04-10 00:00:00+00:00    11627487\n",
       "Name: Cases, Length: 810, dtype: int64"
      ]
     },
     "execution_count": 27,
     "metadata": {},
     "output_type": "execute_result"
    }
   ],
   "source": [
    "casos_es"
   ]
  },
  {
   "cell_type": "code",
   "execution_count": 28,
   "id": "89c54fd5",
   "metadata": {},
   "outputs": [
    {
     "data": {
      "text/plain": [
       "Date\n",
       "2020-01-22 00:00:00+00:00          0\n",
       "2020-01-23 00:00:00+00:00          0\n",
       "2020-01-24 00:00:00+00:00          0\n",
       "2020-01-25 00:00:00+00:00          0\n",
       "2020-01-26 00:00:00+00:00          0\n",
       "                              ...   \n",
       "2022-04-06 00:00:00+00:00    6086811\n",
       "2022-04-07 00:00:00+00:00    6087123\n",
       "2022-04-08 00:00:00+00:00    6087443\n",
       "2022-04-09 00:00:00+00:00    6087737\n",
       "2022-04-10 00:00:00+00:00    6088034\n",
       "Name: Cases, Length: 810, dtype: int64"
      ]
     },
     "execution_count": 28,
     "metadata": {},
     "output_type": "execute_result"
    }
   ],
   "source": [
    "casos_co"
   ]
  },
  {
   "cell_type": "markdown",
   "id": "447fd0ff",
   "metadata": {},
   "source": [
    "Juntamos las dos tablas en uno, es decir la concatenamos para en vez de tener 2 tablas con dos columnas, tenemos 1 tabla con 3 columnas, una de ellas la fecha y las otras dos los casos en cada pais"
   ]
  },
  {
   "cell_type": "code",
   "execution_count": 29,
   "id": "b284950d",
   "metadata": {},
   "outputs": [
    {
     "data": {
      "text/html": [
       "<div>\n",
       "<style scoped>\n",
       "    .dataframe tbody tr th:only-of-type {\n",
       "        vertical-align: middle;\n",
       "    }\n",
       "\n",
       "    .dataframe tbody tr th {\n",
       "        vertical-align: top;\n",
       "    }\n",
       "\n",
       "    .dataframe thead th {\n",
       "        text-align: right;\n",
       "    }\n",
       "</style>\n",
       "<table border=\"1\" class=\"dataframe\">\n",
       "  <thead>\n",
       "    <tr style=\"text-align: right;\">\n",
       "      <th></th>\n",
       "      <th>Cases</th>\n",
       "      <th>Cases</th>\n",
       "    </tr>\n",
       "    <tr>\n",
       "      <th>Date</th>\n",
       "      <th></th>\n",
       "      <th></th>\n",
       "    </tr>\n",
       "  </thead>\n",
       "  <tbody>\n",
       "    <tr>\n",
       "      <th>2020-01-22 00:00:00+00:00</th>\n",
       "      <td>0</td>\n",
       "      <td>0</td>\n",
       "    </tr>\n",
       "    <tr>\n",
       "      <th>2020-01-23 00:00:00+00:00</th>\n",
       "      <td>0</td>\n",
       "      <td>0</td>\n",
       "    </tr>\n",
       "    <tr>\n",
       "      <th>2020-01-24 00:00:00+00:00</th>\n",
       "      <td>0</td>\n",
       "      <td>0</td>\n",
       "    </tr>\n",
       "    <tr>\n",
       "      <th>2020-01-25 00:00:00+00:00</th>\n",
       "      <td>0</td>\n",
       "      <td>0</td>\n",
       "    </tr>\n",
       "    <tr>\n",
       "      <th>2020-01-26 00:00:00+00:00</th>\n",
       "      <td>0</td>\n",
       "      <td>0</td>\n",
       "    </tr>\n",
       "    <tr>\n",
       "      <th>...</th>\n",
       "      <td>...</td>\n",
       "      <td>...</td>\n",
       "    </tr>\n",
       "    <tr>\n",
       "      <th>2022-04-06 00:00:00+00:00</th>\n",
       "      <td>11578653</td>\n",
       "      <td>6086811</td>\n",
       "    </tr>\n",
       "    <tr>\n",
       "      <th>2022-04-07 00:00:00+00:00</th>\n",
       "      <td>11578653</td>\n",
       "      <td>6087123</td>\n",
       "    </tr>\n",
       "    <tr>\n",
       "      <th>2022-04-08 00:00:00+00:00</th>\n",
       "      <td>11627487</td>\n",
       "      <td>6087443</td>\n",
       "    </tr>\n",
       "    <tr>\n",
       "      <th>2022-04-09 00:00:00+00:00</th>\n",
       "      <td>11627487</td>\n",
       "      <td>6087737</td>\n",
       "    </tr>\n",
       "    <tr>\n",
       "      <th>2022-04-10 00:00:00+00:00</th>\n",
       "      <td>11627487</td>\n",
       "      <td>6088034</td>\n",
       "    </tr>\n",
       "  </tbody>\n",
       "</table>\n",
       "<p>810 rows × 2 columns</p>\n",
       "</div>"
      ],
      "text/plain": [
       "                              Cases    Cases\n",
       "Date                                        \n",
       "2020-01-22 00:00:00+00:00         0        0\n",
       "2020-01-23 00:00:00+00:00         0        0\n",
       "2020-01-24 00:00:00+00:00         0        0\n",
       "2020-01-25 00:00:00+00:00         0        0\n",
       "2020-01-26 00:00:00+00:00         0        0\n",
       "...                             ...      ...\n",
       "2022-04-06 00:00:00+00:00  11578653  6086811\n",
       "2022-04-07 00:00:00+00:00  11578653  6087123\n",
       "2022-04-08 00:00:00+00:00  11627487  6087443\n",
       "2022-04-09 00:00:00+00:00  11627487  6087737\n",
       "2022-04-10 00:00:00+00:00  11627487  6088034\n",
       "\n",
       "[810 rows x 2 columns]"
      ]
     },
     "execution_count": 29,
     "metadata": {},
     "output_type": "execute_result"
    }
   ],
   "source": [
    "pd.concat([casos_es,casos_co],axis=1)"
   ]
  },
  {
   "cell_type": "code",
   "execution_count": 30,
   "id": "8b7ee726",
   "metadata": {},
   "outputs": [
    {
     "data": {
      "text/html": [
       "<div>\n",
       "<style scoped>\n",
       "    .dataframe tbody tr th:only-of-type {\n",
       "        vertical-align: middle;\n",
       "    }\n",
       "\n",
       "    .dataframe tbody tr th {\n",
       "        vertical-align: top;\n",
       "    }\n",
       "\n",
       "    .dataframe thead th {\n",
       "        text-align: right;\n",
       "    }\n",
       "</style>\n",
       "<table border=\"1\" class=\"dataframe\">\n",
       "  <thead>\n",
       "    <tr style=\"text-align: right;\">\n",
       "      <th></th>\n",
       "      <th>Cases</th>\n",
       "      <th>Cases</th>\n",
       "    </tr>\n",
       "    <tr>\n",
       "      <th>Date</th>\n",
       "      <th></th>\n",
       "      <th></th>\n",
       "    </tr>\n",
       "  </thead>\n",
       "  <tbody>\n",
       "    <tr>\n",
       "      <th>2020-01-22 00:00:00+00:00</th>\n",
       "      <td>0</td>\n",
       "      <td>0</td>\n",
       "    </tr>\n",
       "    <tr>\n",
       "      <th>2020-01-23 00:00:00+00:00</th>\n",
       "      <td>0</td>\n",
       "      <td>0</td>\n",
       "    </tr>\n",
       "    <tr>\n",
       "      <th>2020-01-24 00:00:00+00:00</th>\n",
       "      <td>0</td>\n",
       "      <td>0</td>\n",
       "    </tr>\n",
       "    <tr>\n",
       "      <th>2020-01-25 00:00:00+00:00</th>\n",
       "      <td>0</td>\n",
       "      <td>0</td>\n",
       "    </tr>\n",
       "    <tr>\n",
       "      <th>2020-01-26 00:00:00+00:00</th>\n",
       "      <td>0</td>\n",
       "      <td>0</td>\n",
       "    </tr>\n",
       "    <tr>\n",
       "      <th>...</th>\n",
       "      <td>...</td>\n",
       "      <td>...</td>\n",
       "    </tr>\n",
       "    <tr>\n",
       "      <th>2022-04-06 00:00:00+00:00</th>\n",
       "      <td>11578653</td>\n",
       "      <td>6086811</td>\n",
       "    </tr>\n",
       "    <tr>\n",
       "      <th>2022-04-07 00:00:00+00:00</th>\n",
       "      <td>11578653</td>\n",
       "      <td>6087123</td>\n",
       "    </tr>\n",
       "    <tr>\n",
       "      <th>2022-04-08 00:00:00+00:00</th>\n",
       "      <td>11627487</td>\n",
       "      <td>6087443</td>\n",
       "    </tr>\n",
       "    <tr>\n",
       "      <th>2022-04-09 00:00:00+00:00</th>\n",
       "      <td>11627487</td>\n",
       "      <td>6087737</td>\n",
       "    </tr>\n",
       "    <tr>\n",
       "      <th>2022-04-10 00:00:00+00:00</th>\n",
       "      <td>11627487</td>\n",
       "      <td>6088034</td>\n",
       "    </tr>\n",
       "  </tbody>\n",
       "</table>\n",
       "<p>810 rows × 2 columns</p>\n",
       "</div>"
      ],
      "text/plain": [
       "                              Cases    Cases\n",
       "Date                                        \n",
       "2020-01-22 00:00:00+00:00         0        0\n",
       "2020-01-23 00:00:00+00:00         0        0\n",
       "2020-01-24 00:00:00+00:00         0        0\n",
       "2020-01-25 00:00:00+00:00         0        0\n",
       "2020-01-26 00:00:00+00:00         0        0\n",
       "...                             ...      ...\n",
       "2022-04-06 00:00:00+00:00  11578653  6086811\n",
       "2022-04-07 00:00:00+00:00  11578653  6087123\n",
       "2022-04-08 00:00:00+00:00  11627487  6087443\n",
       "2022-04-09 00:00:00+00:00  11627487  6087737\n",
       "2022-04-10 00:00:00+00:00  11627487  6088034\n",
       "\n",
       "[810 rows x 2 columns]"
      ]
     },
     "execution_count": 30,
     "metadata": {},
     "output_type": "execute_result"
    }
   ],
   "source": [
    "vs = pd.concat([casos_es,casos_co],axis=1)\n",
    "vs"
   ]
  },
  {
   "cell_type": "markdown",
   "id": "90928f28",
   "metadata": {},
   "source": [
    "A las columnas le añadimos nombres, es decir a la de los primeros datos le ponemos España y a la de los segundos datos le ponemos Colombia"
   ]
  },
  {
   "cell_type": "code",
   "execution_count": 31,
   "id": "c619732f",
   "metadata": {},
   "outputs": [
    {
     "data": {
      "text/html": [
       "<div>\n",
       "<style scoped>\n",
       "    .dataframe tbody tr th:only-of-type {\n",
       "        vertical-align: middle;\n",
       "    }\n",
       "\n",
       "    .dataframe tbody tr th {\n",
       "        vertical-align: top;\n",
       "    }\n",
       "\n",
       "    .dataframe thead th {\n",
       "        text-align: right;\n",
       "    }\n",
       "</style>\n",
       "<table border=\"1\" class=\"dataframe\">\n",
       "  <thead>\n",
       "    <tr style=\"text-align: right;\">\n",
       "      <th></th>\n",
       "      <th>España</th>\n",
       "      <th>Colombia</th>\n",
       "    </tr>\n",
       "    <tr>\n",
       "      <th>Date</th>\n",
       "      <th></th>\n",
       "      <th></th>\n",
       "    </tr>\n",
       "  </thead>\n",
       "  <tbody>\n",
       "    <tr>\n",
       "      <th>2020-01-22 00:00:00+00:00</th>\n",
       "      <td>0</td>\n",
       "      <td>0</td>\n",
       "    </tr>\n",
       "    <tr>\n",
       "      <th>2020-01-23 00:00:00+00:00</th>\n",
       "      <td>0</td>\n",
       "      <td>0</td>\n",
       "    </tr>\n",
       "    <tr>\n",
       "      <th>2020-01-24 00:00:00+00:00</th>\n",
       "      <td>0</td>\n",
       "      <td>0</td>\n",
       "    </tr>\n",
       "    <tr>\n",
       "      <th>2020-01-25 00:00:00+00:00</th>\n",
       "      <td>0</td>\n",
       "      <td>0</td>\n",
       "    </tr>\n",
       "    <tr>\n",
       "      <th>2020-01-26 00:00:00+00:00</th>\n",
       "      <td>0</td>\n",
       "      <td>0</td>\n",
       "    </tr>\n",
       "    <tr>\n",
       "      <th>...</th>\n",
       "      <td>...</td>\n",
       "      <td>...</td>\n",
       "    </tr>\n",
       "    <tr>\n",
       "      <th>2022-04-06 00:00:00+00:00</th>\n",
       "      <td>11578653</td>\n",
       "      <td>6086811</td>\n",
       "    </tr>\n",
       "    <tr>\n",
       "      <th>2022-04-07 00:00:00+00:00</th>\n",
       "      <td>11578653</td>\n",
       "      <td>6087123</td>\n",
       "    </tr>\n",
       "    <tr>\n",
       "      <th>2022-04-08 00:00:00+00:00</th>\n",
       "      <td>11627487</td>\n",
       "      <td>6087443</td>\n",
       "    </tr>\n",
       "    <tr>\n",
       "      <th>2022-04-09 00:00:00+00:00</th>\n",
       "      <td>11627487</td>\n",
       "      <td>6087737</td>\n",
       "    </tr>\n",
       "    <tr>\n",
       "      <th>2022-04-10 00:00:00+00:00</th>\n",
       "      <td>11627487</td>\n",
       "      <td>6088034</td>\n",
       "    </tr>\n",
       "  </tbody>\n",
       "</table>\n",
       "<p>810 rows × 2 columns</p>\n",
       "</div>"
      ],
      "text/plain": [
       "                             España  Colombia\n",
       "Date                                         \n",
       "2020-01-22 00:00:00+00:00         0         0\n",
       "2020-01-23 00:00:00+00:00         0         0\n",
       "2020-01-24 00:00:00+00:00         0         0\n",
       "2020-01-25 00:00:00+00:00         0         0\n",
       "2020-01-26 00:00:00+00:00         0         0\n",
       "...                             ...       ...\n",
       "2022-04-06 00:00:00+00:00  11578653   6086811\n",
       "2022-04-07 00:00:00+00:00  11578653   6087123\n",
       "2022-04-08 00:00:00+00:00  11627487   6087443\n",
       "2022-04-09 00:00:00+00:00  11627487   6087737\n",
       "2022-04-10 00:00:00+00:00  11627487   6088034\n",
       "\n",
       "[810 rows x 2 columns]"
      ]
     },
     "execution_count": 31,
     "metadata": {},
     "output_type": "execute_result"
    }
   ],
   "source": [
    "vs.columns = ['España','Colombia']\n",
    "vs"
   ]
  },
  {
   "cell_type": "markdown",
   "id": "d0e07a2c",
   "metadata": {},
   "source": [
    "Ploteamos la gráfica con los datos de españa vs Colombia"
   ]
  },
  {
   "cell_type": "code",
   "execution_count": 32,
   "id": "89fdc540",
   "metadata": {},
   "outputs": [
    {
     "data": {
      "text/plain": [
       "<AxesSubplot:title={'center':'España Vs Colombia'}, xlabel='Date'>"
      ]
     },
     "execution_count": 32,
     "metadata": {},
     "output_type": "execute_result"
    },
    {
     "data": {
      "image/png": "[encoded data removed]",
      "text/plain": [
       "<Figure size 432x288 with 1 Axes>"
      ]
     },
     "metadata": {
      "needs_background": "light"
     },
     "output_type": "display_data"
    }
   ],
   "source": [
    "vs.plot(title=\"España Vs Colombia\", kind='area')"
   ]
  },
  {
   "cell_type": "markdown",
   "id": "7113814e",
   "metadata": {},
   "source": [
    "## Triple comparativa"
   ]
  },
  {
   "cell_type": "code",
   "execution_count": 33,
   "id": "d2ad7db1",
   "metadata": {},
   "outputs": [
    {
     "data": {
      "text/plain": [
       "<AxesSubplot:title={'center':'Datos de Covid19 en Argentina'}, xlabel='Date'>"
      ]
     },
     "execution_count": 33,
     "metadata": {},
     "output_type": "execute_result"
    },
    {
     "data": {
      "image/png": "[encoded data removed]",
      "text/plain": [
       "<Figure size 432x288 with 1 Axes>"
      ]
     },
     "metadata": {
      "needs_background": "light"
     },
     "output_type": "display_data"
    }
   ],
   "source": [
    "url_arg = 'https://api.covid19api.com/country/argentina/status/confirmed/live'\n",
    "df_arg = pd.read_json(url_arg)\n",
    "df_arg.set_index('Date')['Cases'].plot(title=\"Datos de Covid19 en Argentina\")"
   ]
  },
  {
   "cell_type": "markdown",
   "id": "0d1e7374",
   "metadata": {},
   "source": [
    "Guardamos en la variable casos_es los casos que hay en españa dependiendo de la fecha, estos datos se guardan en un DataFrame. Hacemos lo mismo con los datos de Colombia guardandolo en la variable casos_co y con los datos de argentina en casos_arg"
   ]
  },
  {
   "cell_type": "code",
   "execution_count": 34,
   "id": "5c143d25",
   "metadata": {},
   "outputs": [],
   "source": [
    "casos_es = df_es.set_index('Date')['Cases']\n",
    "casos_co = df_co.set_index('Date')['Cases']\n",
    "casos_arg = df_arg.set_index('Date')['Cases']"
   ]
  },
  {
   "cell_type": "code",
   "execution_count": 35,
   "id": "e0d7b9b2",
   "metadata": {},
   "outputs": [
    {
     "data": {
      "text/plain": [
       "Date\n",
       "2020-01-22 00:00:00+00:00          0\n",
       "2020-01-23 00:00:00+00:00          0\n",
       "2020-01-24 00:00:00+00:00          0\n",
       "2020-01-25 00:00:00+00:00          0\n",
       "2020-01-26 00:00:00+00:00          0\n",
       "                              ...   \n",
       "2022-04-06 00:00:00+00:00    9047408\n",
       "2022-04-07 00:00:00+00:00    9049250\n",
       "2022-04-08 00:00:00+00:00    9051243\n",
       "2022-04-09 00:00:00+00:00    9052083\n",
       "2022-04-10 00:00:00+00:00    9052536\n",
       "Name: Cases, Length: 810, dtype: int64"
      ]
     },
     "execution_count": 35,
     "metadata": {},
     "output_type": "execute_result"
    }
   ],
   "source": [
    "casos_arg"
   ]
  },
  {
   "cell_type": "markdown",
   "id": "c912b78f",
   "metadata": {},
   "source": [
    "Concatenamos las tres columnas para tener todos los datos en una tabla"
   ]
  },
  {
   "cell_type": "code",
   "execution_count": 29,
   "id": "c53255b3",
   "metadata": {},
   "outputs": [
    {
     "data": {
      "text/html": [
       "<div>\n",
       "<style scoped>\n",
       "    .dataframe tbody tr th:only-of-type {\n",
       "        vertical-align: middle;\n",
       "    }\n",
       "\n",
       "    .dataframe tbody tr th {\n",
       "        vertical-align: top;\n",
       "    }\n",
       "\n",
       "    .dataframe thead th {\n",
       "        text-align: right;\n",
       "    }\n",
       "</style>\n",
       "<table border=\"1\" class=\"dataframe\">\n",
       "  <thead>\n",
       "    <tr style=\"text-align: right;\">\n",
       "      <th></th>\n",
       "      <th>Cases</th>\n",
       "      <th>Cases</th>\n",
       "      <th>Cases</th>\n",
       "    </tr>\n",
       "    <tr>\n",
       "      <th>Date</th>\n",
       "      <th></th>\n",
       "      <th></th>\n",
       "      <th></th>\n",
       "    </tr>\n",
       "  </thead>\n",
       "  <tbody>\n",
       "    <tr>\n",
       "      <th>2020-01-22 00:00:00+00:00</th>\n",
       "      <td>0.0</td>\n",
       "      <td>0.0</td>\n",
       "      <td>0</td>\n",
       "    </tr>\n",
       "    <tr>\n",
       "      <th>2020-01-23 00:00:00+00:00</th>\n",
       "      <td>0.0</td>\n",
       "      <td>0.0</td>\n",
       "      <td>0</td>\n",
       "    </tr>\n",
       "    <tr>\n",
       "      <th>2020-01-24 00:00:00+00:00</th>\n",
       "      <td>0.0</td>\n",
       "      <td>0.0</td>\n",
       "      <td>0</td>\n",
       "    </tr>\n",
       "    <tr>\n",
       "      <th>2020-01-25 00:00:00+00:00</th>\n",
       "      <td>0.0</td>\n",
       "      <td>0.0</td>\n",
       "      <td>0</td>\n",
       "    </tr>\n",
       "    <tr>\n",
       "      <th>2020-01-26 00:00:00+00:00</th>\n",
       "      <td>0.0</td>\n",
       "      <td>0.0</td>\n",
       "      <td>0</td>\n",
       "    </tr>\n",
       "    <tr>\n",
       "      <th>...</th>\n",
       "      <td>...</td>\n",
       "      <td>...</td>\n",
       "      <td>...</td>\n",
       "    </tr>\n",
       "    <tr>\n",
       "      <th>2022-03-27 00:00:00+00:00</th>\n",
       "      <td>11451676.0</td>\n",
       "      <td>6083643.0</td>\n",
       "      <td>9026075</td>\n",
       "    </tr>\n",
       "    <tr>\n",
       "      <th>2022-03-28 00:00:00+00:00</th>\n",
       "      <td>11451676.0</td>\n",
       "      <td>6083939.0</td>\n",
       "      <td>9028730</td>\n",
       "    </tr>\n",
       "    <tr>\n",
       "      <th>2022-03-29 00:00:00+00:00</th>\n",
       "      <td>11508309.0</td>\n",
       "      <td>6084240.0</td>\n",
       "      <td>9032162</td>\n",
       "    </tr>\n",
       "    <tr>\n",
       "      <th>2022-03-30 00:00:00+00:00</th>\n",
       "      <td>11508309.0</td>\n",
       "      <td>6084551.0</td>\n",
       "      <td>9035127</td>\n",
       "    </tr>\n",
       "    <tr>\n",
       "      <th>2022-03-31 00:00:00+00:00</th>\n",
       "      <td>NaN</td>\n",
       "      <td>NaN</td>\n",
       "      <td>9035127</td>\n",
       "    </tr>\n",
       "  </tbody>\n",
       "</table>\n",
       "<p>800 rows × 3 columns</p>\n",
       "</div>"
      ],
      "text/plain": [
       "                                Cases      Cases    Cases\n",
       "Date                                                     \n",
       "2020-01-22 00:00:00+00:00         0.0        0.0        0\n",
       "2020-01-23 00:00:00+00:00         0.0        0.0        0\n",
       "2020-01-24 00:00:00+00:00         0.0        0.0        0\n",
       "2020-01-25 00:00:00+00:00         0.0        0.0        0\n",
       "2020-01-26 00:00:00+00:00         0.0        0.0        0\n",
       "...                               ...        ...      ...\n",
       "2022-03-27 00:00:00+00:00  11451676.0  6083643.0  9026075\n",
       "2022-03-28 00:00:00+00:00  11451676.0  6083939.0  9028730\n",
       "2022-03-29 00:00:00+00:00  11508309.0  6084240.0  9032162\n",
       "2022-03-30 00:00:00+00:00  11508309.0  6084551.0  9035127\n",
       "2022-03-31 00:00:00+00:00         NaN        NaN  9035127\n",
       "\n",
       "[800 rows x 3 columns]"
      ]
     },
     "execution_count": 29,
     "metadata": {},
     "output_type": "execute_result"
    }
   ],
   "source": [
    "pd.concat([casos_es,casos_co,casos_arg],axis=1)"
   ]
  },
  {
   "cell_type": "markdown",
   "id": "921abc04",
   "metadata": {},
   "source": [
    "Guardamos los datos concatenados en la variable vs1"
   ]
  },
  {
   "cell_type": "code",
   "execution_count": 36,
   "id": "f3da22fe",
   "metadata": {},
   "outputs": [
    {
     "data": {
      "text/html": [
       "<div>\n",
       "<style scoped>\n",
       "    .dataframe tbody tr th:only-of-type {\n",
       "        vertical-align: middle;\n",
       "    }\n",
       "\n",
       "    .dataframe tbody tr th {\n",
       "        vertical-align: top;\n",
       "    }\n",
       "\n",
       "    .dataframe thead th {\n",
       "        text-align: right;\n",
       "    }\n",
       "</style>\n",
       "<table border=\"1\" class=\"dataframe\">\n",
       "  <thead>\n",
       "    <tr style=\"text-align: right;\">\n",
       "      <th></th>\n",
       "      <th>Cases</th>\n",
       "      <th>Cases</th>\n",
       "      <th>Cases</th>\n",
       "    </tr>\n",
       "    <tr>\n",
       "      <th>Date</th>\n",
       "      <th></th>\n",
       "      <th></th>\n",
       "      <th></th>\n",
       "    </tr>\n",
       "  </thead>\n",
       "  <tbody>\n",
       "    <tr>\n",
       "      <th>2020-01-22 00:00:00+00:00</th>\n",
       "      <td>0</td>\n",
       "      <td>0</td>\n",
       "      <td>0</td>\n",
       "    </tr>\n",
       "    <tr>\n",
       "      <th>2020-01-23 00:00:00+00:00</th>\n",
       "      <td>0</td>\n",
       "      <td>0</td>\n",
       "      <td>0</td>\n",
       "    </tr>\n",
       "    <tr>\n",
       "      <th>2020-01-24 00:00:00+00:00</th>\n",
       "      <td>0</td>\n",
       "      <td>0</td>\n",
       "      <td>0</td>\n",
       "    </tr>\n",
       "    <tr>\n",
       "      <th>2020-01-25 00:00:00+00:00</th>\n",
       "      <td>0</td>\n",
       "      <td>0</td>\n",
       "      <td>0</td>\n",
       "    </tr>\n",
       "    <tr>\n",
       "      <th>2020-01-26 00:00:00+00:00</th>\n",
       "      <td>0</td>\n",
       "      <td>0</td>\n",
       "      <td>0</td>\n",
       "    </tr>\n",
       "    <tr>\n",
       "      <th>...</th>\n",
       "      <td>...</td>\n",
       "      <td>...</td>\n",
       "      <td>...</td>\n",
       "    </tr>\n",
       "    <tr>\n",
       "      <th>2022-04-06 00:00:00+00:00</th>\n",
       "      <td>11578653</td>\n",
       "      <td>6086811</td>\n",
       "      <td>9047408</td>\n",
       "    </tr>\n",
       "    <tr>\n",
       "      <th>2022-04-07 00:00:00+00:00</th>\n",
       "      <td>11578653</td>\n",
       "      <td>6087123</td>\n",
       "      <td>9049250</td>\n",
       "    </tr>\n",
       "    <tr>\n",
       "      <th>2022-04-08 00:00:00+00:00</th>\n",
       "      <td>11627487</td>\n",
       "      <td>6087443</td>\n",
       "      <td>9051243</td>\n",
       "    </tr>\n",
       "    <tr>\n",
       "      <th>2022-04-09 00:00:00+00:00</th>\n",
       "      <td>11627487</td>\n",
       "      <td>6087737</td>\n",
       "      <td>9052083</td>\n",
       "    </tr>\n",
       "    <tr>\n",
       "      <th>2022-04-10 00:00:00+00:00</th>\n",
       "      <td>11627487</td>\n",
       "      <td>6088034</td>\n",
       "      <td>9052536</td>\n",
       "    </tr>\n",
       "  </tbody>\n",
       "</table>\n",
       "<p>810 rows × 3 columns</p>\n",
       "</div>"
      ],
      "text/plain": [
       "                              Cases    Cases    Cases\n",
       "Date                                                 \n",
       "2020-01-22 00:00:00+00:00         0        0        0\n",
       "2020-01-23 00:00:00+00:00         0        0        0\n",
       "2020-01-24 00:00:00+00:00         0        0        0\n",
       "2020-01-25 00:00:00+00:00         0        0        0\n",
       "2020-01-26 00:00:00+00:00         0        0        0\n",
       "...                             ...      ...      ...\n",
       "2022-04-06 00:00:00+00:00  11578653  6086811  9047408\n",
       "2022-04-07 00:00:00+00:00  11578653  6087123  9049250\n",
       "2022-04-08 00:00:00+00:00  11627487  6087443  9051243\n",
       "2022-04-09 00:00:00+00:00  11627487  6087737  9052083\n",
       "2022-04-10 00:00:00+00:00  11627487  6088034  9052536\n",
       "\n",
       "[810 rows x 3 columns]"
      ]
     },
     "execution_count": 36,
     "metadata": {},
     "output_type": "execute_result"
    }
   ],
   "source": [
    "vs1 = pd.concat([casos_es,casos_co,casos_arg],axis=1)\n",
    "vs1"
   ]
  },
  {
   "cell_type": "markdown",
   "id": "794e3300",
   "metadata": {},
   "source": [
    "Le ponemos nombre a las columnas dependiendo del pais"
   ]
  },
  {
   "cell_type": "code",
   "execution_count": 37,
   "id": "ccd56461",
   "metadata": {},
   "outputs": [
    {
     "data": {
      "text/html": [
       "<div>\n",
       "<style scoped>\n",
       "    .dataframe tbody tr th:only-of-type {\n",
       "        vertical-align: middle;\n",
       "    }\n",
       "\n",
       "    .dataframe tbody tr th {\n",
       "        vertical-align: top;\n",
       "    }\n",
       "\n",
       "    .dataframe thead th {\n",
       "        text-align: right;\n",
       "    }\n",
       "</style>\n",
       "<table border=\"1\" class=\"dataframe\">\n",
       "  <thead>\n",
       "    <tr style=\"text-align: right;\">\n",
       "      <th></th>\n",
       "      <th>España</th>\n",
       "      <th>Colombia</th>\n",
       "      <th>Argentina</th>\n",
       "    </tr>\n",
       "    <tr>\n",
       "      <th>Date</th>\n",
       "      <th></th>\n",
       "      <th></th>\n",
       "      <th></th>\n",
       "    </tr>\n",
       "  </thead>\n",
       "  <tbody>\n",
       "    <tr>\n",
       "      <th>2020-01-22 00:00:00+00:00</th>\n",
       "      <td>0</td>\n",
       "      <td>0</td>\n",
       "      <td>0</td>\n",
       "    </tr>\n",
       "    <tr>\n",
       "      <th>2020-01-23 00:00:00+00:00</th>\n",
       "      <td>0</td>\n",
       "      <td>0</td>\n",
       "      <td>0</td>\n",
       "    </tr>\n",
       "    <tr>\n",
       "      <th>2020-01-24 00:00:00+00:00</th>\n",
       "      <td>0</td>\n",
       "      <td>0</td>\n",
       "      <td>0</td>\n",
       "    </tr>\n",
       "    <tr>\n",
       "      <th>2020-01-25 00:00:00+00:00</th>\n",
       "      <td>0</td>\n",
       "      <td>0</td>\n",
       "      <td>0</td>\n",
       "    </tr>\n",
       "    <tr>\n",
       "      <th>2020-01-26 00:00:00+00:00</th>\n",
       "      <td>0</td>\n",
       "      <td>0</td>\n",
       "      <td>0</td>\n",
       "    </tr>\n",
       "    <tr>\n",
       "      <th>...</th>\n",
       "      <td>...</td>\n",
       "      <td>...</td>\n",
       "      <td>...</td>\n",
       "    </tr>\n",
       "    <tr>\n",
       "      <th>2022-04-06 00:00:00+00:00</th>\n",
       "      <td>11578653</td>\n",
       "      <td>6086811</td>\n",
       "      <td>9047408</td>\n",
       "    </tr>\n",
       "    <tr>\n",
       "      <th>2022-04-07 00:00:00+00:00</th>\n",
       "      <td>11578653</td>\n",
       "      <td>6087123</td>\n",
       "      <td>9049250</td>\n",
       "    </tr>\n",
       "    <tr>\n",
       "      <th>2022-04-08 00:00:00+00:00</th>\n",
       "      <td>11627487</td>\n",
       "      <td>6087443</td>\n",
       "      <td>9051243</td>\n",
       "    </tr>\n",
       "    <tr>\n",
       "      <th>2022-04-09 00:00:00+00:00</th>\n",
       "      <td>11627487</td>\n",
       "      <td>6087737</td>\n",
       "      <td>9052083</td>\n",
       "    </tr>\n",
       "    <tr>\n",
       "      <th>2022-04-10 00:00:00+00:00</th>\n",
       "      <td>11627487</td>\n",
       "      <td>6088034</td>\n",
       "      <td>9052536</td>\n",
       "    </tr>\n",
       "  </tbody>\n",
       "</table>\n",
       "<p>810 rows × 3 columns</p>\n",
       "</div>"
      ],
      "text/plain": [
       "                             España  Colombia  Argentina\n",
       "Date                                                    \n",
       "2020-01-22 00:00:00+00:00         0         0          0\n",
       "2020-01-23 00:00:00+00:00         0         0          0\n",
       "2020-01-24 00:00:00+00:00         0         0          0\n",
       "2020-01-25 00:00:00+00:00         0         0          0\n",
       "2020-01-26 00:00:00+00:00         0         0          0\n",
       "...                             ...       ...        ...\n",
       "2022-04-06 00:00:00+00:00  11578653   6086811    9047408\n",
       "2022-04-07 00:00:00+00:00  11578653   6087123    9049250\n",
       "2022-04-08 00:00:00+00:00  11627487   6087443    9051243\n",
       "2022-04-09 00:00:00+00:00  11627487   6087737    9052083\n",
       "2022-04-10 00:00:00+00:00  11627487   6088034    9052536\n",
       "\n",
       "[810 rows x 3 columns]"
      ]
     },
     "execution_count": 37,
     "metadata": {},
     "output_type": "execute_result"
    }
   ],
   "source": [
    "vs1.columns = ['España','Colombia','Argentina']\n",
    "vs1"
   ]
  },
  {
   "cell_type": "markdown",
   "id": "efa9c235",
   "metadata": {},
   "source": [
    "Ploteamos en una gráfica los tres paises con sus datos"
   ]
  },
  {
   "cell_type": "code",
   "execution_count": 38,
   "id": "61a16e86",
   "metadata": {},
   "outputs": [
    {
     "data": {
      "text/plain": [
       "<AxesSubplot:title={'center':'España, Colombia y Argentina'}, xlabel='Date'>"
      ]
     },
     "execution_count": 38,
     "metadata": {},
     "output_type": "execute_result"
    },
    {
     "data": {
      "image/png": "[encoded data removed]",
      "text/plain": [
       "<Figure size 432x288 with 1 Axes>"
      ]
     },
     "metadata": {
      "needs_background": "light"
     },
     "output_type": "display_data"
    }
   ],
   "source": [
    "vs1.plot(title=\"España, Colombia y Argentina\")"
   ]
  },
  {
   "cell_type": "markdown",
   "id": "f38ddf20",
   "metadata": {},
   "source": [
    "## Seleccionar más columnas"
   ]
  },
  {
   "cell_type": "code",
   "execution_count": 33,
   "id": "dec6bad3",
   "metadata": {},
   "outputs": [
    {
     "data": {
      "text/html": [
       "<div>\n",
       "<style scoped>\n",
       "    .dataframe tbody tr th:only-of-type {\n",
       "        vertical-align: middle;\n",
       "    }\n",
       "\n",
       "    .dataframe tbody tr th {\n",
       "        vertical-align: top;\n",
       "    }\n",
       "\n",
       "    .dataframe thead th {\n",
       "        text-align: right;\n",
       "    }\n",
       "</style>\n",
       "<table border=\"1\" class=\"dataframe\">\n",
       "  <thead>\n",
       "    <tr style=\"text-align: right;\">\n",
       "      <th></th>\n",
       "      <th>Cases</th>\n",
       "      <th>Lon</th>\n",
       "    </tr>\n",
       "    <tr>\n",
       "      <th>Date</th>\n",
       "      <th></th>\n",
       "      <th></th>\n",
       "    </tr>\n",
       "  </thead>\n",
       "  <tbody>\n",
       "    <tr>\n",
       "      <th>2020-01-22 00:00:00+00:00</th>\n",
       "      <td>0</td>\n",
       "      <td>-3.75</td>\n",
       "    </tr>\n",
       "    <tr>\n",
       "      <th>2020-01-23 00:00:00+00:00</th>\n",
       "      <td>0</td>\n",
       "      <td>-3.75</td>\n",
       "    </tr>\n",
       "    <tr>\n",
       "      <th>2020-01-24 00:00:00+00:00</th>\n",
       "      <td>0</td>\n",
       "      <td>-3.75</td>\n",
       "    </tr>\n",
       "    <tr>\n",
       "      <th>2020-01-25 00:00:00+00:00</th>\n",
       "      <td>0</td>\n",
       "      <td>-3.75</td>\n",
       "    </tr>\n",
       "    <tr>\n",
       "      <th>2020-01-26 00:00:00+00:00</th>\n",
       "      <td>0</td>\n",
       "      <td>-3.75</td>\n",
       "    </tr>\n",
       "    <tr>\n",
       "      <th>...</th>\n",
       "      <td>...</td>\n",
       "      <td>...</td>\n",
       "    </tr>\n",
       "    <tr>\n",
       "      <th>2022-03-26 00:00:00+00:00</th>\n",
       "      <td>11451676</td>\n",
       "      <td>-3.75</td>\n",
       "    </tr>\n",
       "    <tr>\n",
       "      <th>2022-03-27 00:00:00+00:00</th>\n",
       "      <td>11451676</td>\n",
       "      <td>-3.75</td>\n",
       "    </tr>\n",
       "    <tr>\n",
       "      <th>2022-03-28 00:00:00+00:00</th>\n",
       "      <td>11451676</td>\n",
       "      <td>-3.75</td>\n",
       "    </tr>\n",
       "    <tr>\n",
       "      <th>2022-03-29 00:00:00+00:00</th>\n",
       "      <td>11508309</td>\n",
       "      <td>-3.75</td>\n",
       "    </tr>\n",
       "    <tr>\n",
       "      <th>2022-03-30 00:00:00+00:00</th>\n",
       "      <td>11508309</td>\n",
       "      <td>-3.75</td>\n",
       "    </tr>\n",
       "  </tbody>\n",
       "</table>\n",
       "<p>799 rows × 2 columns</p>\n",
       "</div>"
      ],
      "text/plain": [
       "                              Cases   Lon\n",
       "Date                                     \n",
       "2020-01-22 00:00:00+00:00         0 -3.75\n",
       "2020-01-23 00:00:00+00:00         0 -3.75\n",
       "2020-01-24 00:00:00+00:00         0 -3.75\n",
       "2020-01-25 00:00:00+00:00         0 -3.75\n",
       "2020-01-26 00:00:00+00:00         0 -3.75\n",
       "...                             ...   ...\n",
       "2022-03-26 00:00:00+00:00  11451676 -3.75\n",
       "2022-03-27 00:00:00+00:00  11451676 -3.75\n",
       "2022-03-28 00:00:00+00:00  11451676 -3.75\n",
       "2022-03-29 00:00:00+00:00  11508309 -3.75\n",
       "2022-03-30 00:00:00+00:00  11508309 -3.75\n",
       "\n",
       "[799 rows x 2 columns]"
      ]
     },
     "execution_count": 33,
     "metadata": {},
     "output_type": "execute_result"
    }
   ],
   "source": [
    "df_es.set_index('Date')[['Cases','Lon']]"
   ]
  },
  {
   "cell_type": "markdown",
   "id": "b3e014c4",
   "metadata": {},
   "source": [
    "## Exportar datos\n",
    "Exportamos los datos de la variable vs y los guardamos en el archivo vs.csv que tiene un formato de csv"
   ]
  },
  {
   "cell_type": "code",
   "execution_count": 34,
   "id": "c8e7064f",
   "metadata": {},
   "outputs": [],
   "source": [
    "vs.to_csv('vs.csv')"
   ]
  },
  {
   "cell_type": "code",
   "execution_count": 36,
   "id": "565d27fd",
   "metadata": {
    "scrolled": true
   },
   "outputs": [
    {
     "name": "stdout",
     "output_type": "stream",
     "text": [
      " El volumen de la unidad C no tiene etiqueta.\n",
      " El n£mero de serie del volumen es: 4E86-623A\n",
      "\n",
      " Directorio de C:\\Users\\jbohorquezv.ALUMNOS\\ads\n",
      "\n",
      "31/03/2022  19:07            33.197 vs.csv\n",
      "               1 archivos         33.197 bytes\n",
      "               0 dirs  627.966.353.408 bytes libres\n"
     ]
    }
   ],
   "source": [
    "%ls vs.csv"
   ]
  },
  {
   "cell_type": "markdown",
   "id": "bdb31e2d",
   "metadata": {},
   "source": [
    "## Exportar gráfica\n",
    "Guardamos la imagen que hemos ploteado de los datos guardados en la variable vs en la imagen vs.png"
   ]
  },
  {
   "cell_type": "code",
   "execution_count": 37,
   "id": "db3ffd66",
   "metadata": {},
   "outputs": [
    {
     "data": {
      "image/png": "[encoded data removed]",
      "text/plain": [
       "<Figure size 432x288 with 1 Axes>"
      ]
     },
     "metadata": {
      "needs_background": "light"
     },
     "output_type": "display_data"
    }
   ],
   "source": [
    "grafico = vs.plot()\n",
    "fig = grafico.get_figure()\n",
    "fig.savefig(\"vs.png\")"
   ]
  }
 ],
 "metadata": {
  "kernelspec": {
   "display_name": "Python 3 (ipykernel)",
   "language": "python",
   "name": "python3"
  },
  "language_info": {
   "codemirror_mode": {
    "name": "ipython",
    "version": 3
   },
   "file_extension": ".py",
   "mimetype": "text/x-python",
   "name": "python",
   "nbconvert_exporter": "python",
   "pygments_lexer": "ipython3",
   "version": "3.9.7"
  }
 },
 "nbformat": 4,
 "nbformat_minor": 5
}
